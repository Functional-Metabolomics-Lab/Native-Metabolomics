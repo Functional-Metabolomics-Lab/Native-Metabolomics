{
 "cells": [
  {
   "cell_type": "code",
   "execution_count": null,
   "metadata": {},
   "outputs": [],
   "source": [
    "#Matching two feature list with given m/z offset\n",
    "#Authors: Wout Bittremieux (wbittremieux@health.ucsd.edu)\n",
    "#Edited by: Daniel Petras\n",
    "#Input file format: .csv feature table output from MZmine\n",
    "#Outputs: Combined .csv feature table with matched features\n",
    "#Dependencies: \n"
   ]
  },
  {
   "cell_type": "code",
   "execution_count": 1,
   "metadata": {},
   "outputs": [],
   "source": [
    "import pandas as pd"
   ]
  },
  {
   "cell_type": "code",
   "execution_count": 2,
   "metadata": {},
   "outputs": [],
   "source": [
    "mz_offset = 25234 #Define mass offset [m/z]\n",
    "mz_tolerance = 2    # Define m/z tolernace [m/z]\n",
    "rt_tolerance = 0.2  # Define RT tolernace [min]"
   ]
  },
  {
   "cell_type": "code",
   "execution_count": 3,
   "metadata": {},
   "outputs": [],
   "source": [
    "metabolites = pd.read_csv('Metabolites_Example.csv') # Define 1st input table\n",
    "proteins = pd.read_csv('Protein_Example.csv') # Define 2nd input table\n",
    "\n",
    "metabolites['_temp'] = 0\n",
    "proteins['_temp'] = 0\n",
    "\n",
    "combined = metabolites.merge(proteins, 'outer', '_temp', suffixes=['_m', '_p'])"
   ]
  },
  {
   "cell_type": "code",
   "execution_count": 4,
   "metadata": {},
   "outputs": [],
   "source": [
    "combined = combined[\n",
    "    ((combined['row m/z_m'] + mz_offset - combined['row m/z_p']).abs() < mz_tolerance) &\n",
    "    ((combined['row retention time_m'] - combined['row retention time_p']).abs() < rt_tolerance)]"
   ]
  },
  {
   "cell_type": "code",
   "execution_count": 5,
   "metadata": {},
   "outputs": [],
   "source": [
    "combined.to_csv('combined_2.csv', index=False) # Define output table filename"
   ]
  },
  {
   "cell_type": "code",
   "execution_count": null,
   "metadata": {},
   "outputs": [],
   "source": []
  }
 ],
 "metadata": {
  "kernelspec": {
   "display_name": "Python 3",
   "language": "python",
   "name": "python3"
  },
  "language_info": {
   "codemirror_mode": {
    "name": "ipython",
    "version": 3
   },
   "file_extension": ".py",
   "mimetype": "text/x-python",
   "name": "python",
   "nbconvert_exporter": "python",
   "pygments_lexer": "ipython3",
   "version": "3.7.3"
  }
 },
 "nbformat": 4,
 "nbformat_minor": 4
}
